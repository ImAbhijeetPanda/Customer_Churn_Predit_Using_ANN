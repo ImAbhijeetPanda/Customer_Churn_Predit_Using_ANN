{
 "cells": [
  {
   "cell_type": "code",
   "execution_count": 2,
   "id": "0817cdd2",
   "metadata": {
    "slideshow": {
     "slide_type": "slide"
    }
   },
   "outputs": [
    {
     "name": "stdout",
     "output_type": "stream",
     "text": [
      "Indefinite integral ∫f(x) dx = x**3/3\n",
      "Definite integral ∫f(x) dx from 2.0 to 5.0 = 39.0000000000000\n"
     ]
    }
   ],
   "source": [
    "# Definite Integration using Python\n",
    "\n",
    "import sympy as sp\n",
    "\n",
    "x = sp.Symbol('x')\n",
    "f = input(\"Enter the function(in terms of x): \")\n",
    "\n",
    "F_indefinite = sp.integrate(f, x)\n",
    "print(\"Indefinite integral ∫f(x) dx =\", F_indefinite)\n",
    "\n",
    "a = float(input(\"Enter the lower limit of integration: \"))\n",
    "b = float(input(\"Enter the upper limit of integration: \"))\n",
    "\n",
    "F_definite = sp.integrate(f, (x, a, b))\n",
    "print(f\"Definite integral ∫f(x) dx from {a} to {b} =\", F_definite)\n"
   ]
  },
  {
   "cell_type": "code",
   "execution_count": null,
   "id": "18cfb105",
   "metadata": {},
   "outputs": [],
   "source": [
    "# Derivative using Python\n",
    "\n",
    "import sympy as sp\n",
    "\n",
    "x = sp.Symbol('x')\n",
    "f = input(\"Enter the function (in terms of x): \")\n",
    "\n",
    "f_derivative = sp.diff(f, x)\n",
    "print(\"First derivative d(f)/dx =\", f_derivative)\n",
    "\n",
    "n = int(input(\"Enter the order of derivative (e.g., 2 for second derivative): \"))\n",
    "f_nth_derivative = sp.diff(f, x, n)\n",
    "print(f\"{n}-order derivative d^{n}(f)/dx^{n} =\", f_nth_derivative)\n"
   ]
  },
  {
   "cell_type": "code",
   "execution_count": null,
   "id": "c6fc9ce2",
   "metadata": {},
   "outputs": [],
   "source": [
    "# Limit using Python\n",
    "\n",
    "import sympy as sp\n",
    "\n",
    "x = sp.Symbol('x')\n",
    "f = input(\"Enter the function (in terms of x): \")\n",
    "\n",
    "point = float(input(\"Enter the point at which limit is to be evaluated: \"))\n",
    "direction = input(\"Enter the direction ('+' for right-hand, '-' for left-hand, leave blank for two-sided): \")\n",
    "\n",
    "if direction in ['+', '-']:\n",
    "    f_limit = sp.limit(f, x, point, dir=direction)\n",
    "else:\n",
    "    f_limit = sp.limit(f, x, point)\n",
    "\n",
    "print(f\"Limit of f(x) as x approaches {point} = {f_limit}\")\n"
   ]
  },
  {
   "cell_type": "code",
   "execution_count": null,
   "id": "0451d698",
   "metadata": {},
   "outputs": [],
   "source": [
    "# Indefinite Integration using Python\n",
    "\n",
    "import sympy as sp\n",
    "\n",
    "x = sp.Symbol('x')\n",
    "f = input(\"Enter the function (in terms of x): \")\n",
    "\n",
    "F_indefinite = sp.integrate(f, x)\n",
    "print(\"Indefinite integral ∫f(x) dx =\", F_indefinite, \"+ C\")\n"
   ]
  },
  {
   "cell_type": "code",
   "execution_count": null,
   "id": "19a1d421",
   "metadata": {},
   "outputs": [],
   "source": [
    "# Complex Function Integration using Python\n",
    "\n",
    "import sympy as sp\n",
    "\n",
    "x = sp.Symbol('x')\n",
    "f = input(\"Enter a complex function (e.g., sin(x)*log(x), exp(-x)*cos(x)): \")\n",
    "\n",
    "F_indefinite = sp.integrate(f, x)\n",
    "print(\"Indefinite integral ∫f(x) dx =\", F_indefinite, \"+ C\")\n",
    "\n",
    "a = float(input(\"Enter the lower limit of integration: \"))\n",
    "b = float(input(\"Enter the upper limit of integration: \"))\n",
    "\n",
    "F_definite = sp.integrate(f, (x, a, b))\n",
    "print(f\"Definite integral ∫f(x) dx from {a} to {b} =\", F_definite)\n"
   ]
  }
 ],
 "metadata": {
  "kernelspec": {
   "display_name": "churn_env",
   "language": "python",
   "name": "python3"
  },
  "language_info": {
   "codemirror_mode": {
    "name": "ipython",
    "version": 3
   },
   "file_extension": ".py",
   "mimetype": "text/x-python",
   "name": "python",
   "nbconvert_exporter": "python",
   "pygments_lexer": "ipython3",
   "version": "3.11.9"
  }
 },
 "nbformat": 4,
 "nbformat_minor": 5
}
